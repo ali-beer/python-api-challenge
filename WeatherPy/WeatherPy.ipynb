{
 "cells": [
  {
   "cell_type": "markdown",
   "metadata": {},
   "source": [
    "# WeatherPy\n",
    "----\n",
    "\n",
    "#### Note\n",
    "* Instructions have been included for each segment. You do not have to follow them exactly, but they are included to help you think through the steps."
   ]
  },
  {
   "cell_type": "code",
   "execution_count": 5,
   "metadata": {
    "scrolled": true
   },
   "outputs": [],
   "source": [
    "# Dependencies and Setup\n",
    "import matplotlib.pyplot as plt\n",
    "import pandas as pd\n",
    "import numpy as np\n",
    "import requests\n",
    "import time\n",
    "from scipy.stats import linregress\n",
    "from pprint import pprint\n",
    "\n",
    "# Import API key\n",
    "from api_keys import weather_api_key\n",
    "\n",
    "# Incorporated citipy to determine city based on latitude and longitude\n",
    "from citipy import citipy\n",
    "\n",
    "# Range of latitudes and longitudes\n",
    "lat_range = (-90, 90)\n",
    "lng_range = (-180, 180)"
   ]
  },
  {
   "cell_type": "markdown",
   "metadata": {},
   "source": [
    "## Generate Cities List"
   ]
  },
  {
   "cell_type": "code",
   "execution_count": 2,
   "metadata": {},
   "outputs": [
    {
     "data": {
      "text/plain": [
       "599"
      ]
     },
     "execution_count": 2,
     "metadata": {},
     "output_type": "execute_result"
    }
   ],
   "source": [
    "# List for holding lat_lngs and cities\n",
    "lat_lngs = []\n",
    "cities = []\n",
    "\n",
    "# Create a set of random lat and lng combinations\n",
    "lats = np.random.uniform(lat_range[0], lat_range[1], size=1500)\n",
    "lngs = np.random.uniform(lng_range[0], lng_range[1], size=1500)\n",
    "lat_lngs = zip(lats, lngs)\n",
    "\n",
    "# Identify nearest city for each lat, lng combination\n",
    "for lat_lng in lat_lngs:\n",
    "    city = citipy.nearest_city(lat_lng[0], lat_lng[1]).city_name\n",
    "    \n",
    "    # If the city is unique, then add it to a our cities list\n",
    "    if city not in cities:\n",
    "        cities.append(city)\n",
    "\n",
    "# Print the city count to confirm sufficient count\n",
    "len(cities)"
   ]
  },
  {
   "cell_type": "markdown",
   "metadata": {},
   "source": [
    "### Perform API Calls\n",
    "* Perform a weather check on each city using a series of successive API calls.\n",
    "* Include a print log of each city as it'sbeing processed (with the city number and city name).\n"
   ]
  },
  {
   "cell_type": "code",
   "execution_count": 3,
   "metadata": {
    "scrolled": true
   },
   "outputs": [
    {
     "name": "stdout",
     "output_type": "stream",
     "text": [
      "Beginning data retrieval\n",
      "Processing Record 0 | rikitea Appending stats\n",
      "Processing Record 1 | avarua Appending stats\n",
      "Processing Record 2 | sitka Appending stats\n",
      "Processing Record 3 | port alfred Appending stats\n",
      "Key does not exist for taolanaro! Skipping\n",
      "Processing Record 5 | mataura Appending stats\n",
      "Processing Record 6 | kaitangata Appending stats\n",
      "Processing Record 7 | salalah Appending stats\n",
      "Processing Record 8 | norman wells Appending stats\n",
      "Processing Record 9 | mattawa Appending stats\n",
      "Processing Record 10 | ushuaia Appending stats\n",
      "Processing Record 11 | zambezi Appending stats\n",
      "Processing Record 12 | nador Appending stats\n",
      "Processing Record 13 | codrington Appending stats\n",
      "Processing Record 14 | havelock Appending stats\n",
      "Processing Record 15 | dikson Appending stats\n",
      "Processing Record 16 | takoradi Appending stats\n",
      "Processing Record 17 | shakawe Appending stats\n",
      "Processing Record 18 | itapuranga Appending stats\n",
      "Processing Record 19 | lamu Appending stats\n",
      "Processing Record 20 | sao joao da barra Appending stats\n",
      "Processing Record 21 | albany Appending stats\n",
      "Processing Record 22 | vardo Appending stats\n",
      "Processing Record 23 | puerto ayora Appending stats\n",
      "Processing Record 24 | vaini Appending stats\n",
      "Processing Record 25 | ambilobe Appending stats\n",
      "Processing Record 26 | yellowknife Appending stats\n",
      "Processing Record 27 | norrtalje Appending stats\n",
      "Key does not exist for marcona! Skipping\n",
      "Processing Record 29 | butaritari Appending stats\n",
      "Processing Record 30 | guerrero negro Appending stats\n",
      "Processing Record 31 | punta arenas Appending stats\n",
      "Processing Record 32 | bukachacha Appending stats\n",
      "Processing Record 33 | kamenka Appending stats\n",
      "Processing Record 34 | mount gambier Appending stats\n",
      "Processing Record 35 | prabumulih Appending stats\n",
      "Processing Record 36 | constitucion Appending stats\n",
      "Processing Record 37 | lebu Appending stats\n",
      "Processing Record 38 | bahir dar Appending stats\n",
      "Processing Record 39 | cape town Appending stats\n",
      "Processing Record 40 | hermanus Appending stats\n",
      "Processing Record 41 | hilo Appending stats\n",
      "Processing Record 42 | coos bay Appending stats\n",
      "Processing Record 43 | maceio Appending stats\n",
      "Processing Record 44 | ginir Appending stats\n",
      "Processing Record 45 | sao miguel do araguaia Appending stats\n",
      "Processing Record 46 | jamestown Appending stats\n",
      "Key does not exist for illoqqortoormiut! Skipping\n",
      "Key does not exist for artyk! Skipping\n",
      "Processing Record 49 | xining Appending stats\n",
      "Processing Record 50 | nikolskoye Appending stats\n",
      "Processing Record 51 | barrow Appending stats\n",
      "Key does not exist for tsihombe! Skipping\n",
      "Processing Record 53 | port elizabeth Appending stats\n",
      "Processing Record 54 | labuan Appending stats\n",
      "Processing Record 55 | hasaki Appending stats\n",
      "Processing Record 56 | kodiak Appending stats\n",
      "Processing Record 57 | ribeira grande Appending stats\n",
      "Key does not exist for barentsburg! Skipping\n",
      "Processing Record 59 | busselton Appending stats\n",
      "Processing Record 60 | atuona Appending stats\n",
      "Processing Record 61 | wakefield Appending stats\n",
      "Processing Record 62 | arraial do cabo Appending stats\n",
      "Processing Record 63 | victoria Appending stats\n",
      "Processing Record 64 | mana Appending stats\n",
      "Processing Record 65 | kruisfontein Appending stats\n",
      "Processing Record 66 | sabha Appending stats\n",
      "Processing Record 67 | east london Appending stats\n",
      "Key does not exist for toliary! Skipping\n",
      "Processing Record 69 | labuhan Appending stats\n",
      "Processing Record 70 | turayf Appending stats\n",
      "Processing Record 71 | hithadhoo Appending stats\n",
      "Processing Record 72 | andenes Appending stats\n",
      "Processing Record 73 | sakaiminato Appending stats\n",
      "Processing Record 74 | meulaboh Appending stats\n",
      "Processing Record 75 | margate Appending stats\n",
      "Processing Record 76 | bluff Appending stats\n",
      "Processing Record 77 | vilcun Appending stats\n",
      "Processing Record 78 | bondo Appending stats\n",
      "Processing Record 79 | ancud Appending stats\n",
      "Processing Record 80 | isangel Appending stats\n",
      "Processing Record 81 | gusau Appending stats\n",
      "Processing Record 82 | qaanaaq Appending stats\n",
      "Processing Record 83 | dauphin Appending stats\n",
      "Processing Record 84 | jalu Appending stats\n",
      "Processing Record 85 | jacksonville Appending stats\n",
      "Processing Record 86 | hirara Appending stats\n",
      "Processing Record 87 | torbay Appending stats\n",
      "Processing Record 88 | ponnani Appending stats\n",
      "Processing Record 89 | talwara Appending stats\n",
      "Processing Record 90 | thompson Appending stats\n",
      "Processing Record 91 | port-cartier Appending stats\n",
      "Processing Record 92 | lata Appending stats\n",
      "Processing Record 93 | vestmannaeyjar Appending stats\n",
      "Processing Record 94 | prince rupert Appending stats\n",
      "Processing Record 95 | saint george Appending stats\n",
      "Processing Record 96 | sendafa Appending stats\n",
      "Processing Record 97 | bibiani Appending stats\n",
      "Processing Record 98 | carballo Appending stats\n",
      "Processing Record 99 | wanning Appending stats\n",
      "Processing Record 100 | talnakh Appending stats\n",
      "Processing Record 101 | manta Appending stats\n",
      "Processing Record 102 | lompoc Appending stats\n",
      "Processing Record 103 | chuy Appending stats\n",
      "Processing Record 104 | tasiilaq Appending stats\n",
      "Processing Record 105 | qostanay Appending stats\n",
      "Processing Record 106 | khalki Appending stats\n",
      "Processing Record 107 | upernavik Appending stats\n",
      "Key does not exist for gorno-chuyskiy! Skipping\n",
      "Processing Record 109 | aden Appending stats\n",
      "Processing Record 110 | new norfolk Appending stats\n",
      "Processing Record 111 | khatanga Appending stats\n",
      "Processing Record 112 | boyuibe Appending stats\n",
      "Processing Record 113 | kathmandu Appending stats\n",
      "Processing Record 114 | hobart Appending stats\n",
      "Processing Record 115 | colomi Appending stats\n",
      "Processing Record 116 | yulara Appending stats\n",
      "Processing Record 117 | santa marta de tormes Appending stats\n",
      "Processing Record 118 | narsaq Appending stats\n",
      "Processing Record 119 | verkhnevilyuysk Appending stats\n",
      "Processing Record 120 | kununurra Appending stats\n",
      "Processing Record 121 | badlapur Appending stats\n",
      "Processing Record 122 | port blair Appending stats\n",
      "Processing Record 123 | cabo san lucas Appending stats\n",
      "Processing Record 124 | muros Appending stats\n",
      "Processing Record 125 | rio grande Appending stats\n",
      "Processing Record 126 | bredasdorp Appending stats\n",
      "Processing Record 127 | simao Appending stats\n",
      "Processing Record 128 | chokurdakh Appending stats\n",
      "Processing Record 129 | pangoa Appending stats\n",
      "Processing Record 130 | rawson Appending stats\n",
      "Processing Record 131 | lerik Appending stats\n",
      "Processing Record 132 | avanigadda Appending stats\n",
      "Processing Record 133 | abashiri Appending stats\n",
      "Processing Record 134 | manaus Appending stats\n",
      "Key does not exist for grand river south east! Skipping\n",
      "Key does not exist for vaitupu! Skipping\n",
      "Processing Record 137 | ponta do sol Appending stats\n",
      "Processing Record 138 | cidreira Appending stats\n",
      "Processing Record 139 | visby Appending stats\n",
      "Processing Record 140 | bambous virieux Appending stats\n",
      "Processing Record 141 | mehamn Appending stats\n",
      "Processing Record 142 | pike creek Appending stats\n",
      "Processing Record 143 | fort nelson Appending stats\n",
      "Processing Record 144 | tuktoyaktuk Appending stats\n",
      "Processing Record 145 | kapaa Appending stats\n",
      "Processing Record 146 | bengkulu Appending stats\n",
      "Processing Record 147 | castro Appending stats\n",
      "Processing Record 148 | kahului Appending stats\n",
      "Processing Record 149 | menongue Appending stats\n",
      "Processing Record 150 | los llanos de aridane Appending stats\n",
      "Processing Record 151 | charters towers Appending stats\n",
      "Processing Record 152 | maniwaki Appending stats\n",
      "Key does not exist for lolua! Skipping\n",
      "Processing Record 154 | porteirinha Appending stats\n",
      "Processing Record 155 | nome Appending stats\n",
      "Key does not exist for belushya guba! Skipping\n",
      "Processing Record 157 | mar del plata Appending stats\n",
      "Processing Record 158 | beboto Appending stats\n",
      "Processing Record 159 | perbaungan Appending stats\n",
      "Processing Record 160 | santa cruz Appending stats\n",
      "Processing Record 161 | tatawin Appending stats\n",
      "Processing Record 162 | birjand Appending stats\n",
      "Processing Record 163 | tignere Appending stats\n",
      "Processing Record 164 | nabire Appending stats\n",
      "Key does not exist for louisbourg! Skipping\n",
      "Processing Record 166 | zheleznodorozhnyy Appending stats\n",
      "Processing Record 167 | navlya Appending stats\n",
      "Processing Record 168 | tagusao Appending stats\n"
     ]
    },
    {
     "name": "stdout",
     "output_type": "stream",
     "text": [
      "Processing Record 169 | namibe Appending stats\n",
      "Key does not exist for mys shmidta! Skipping\n",
      "Processing Record 171 | lagoa Appending stats\n",
      "Processing Record 172 | qaqortoq Appending stats\n",
      "Processing Record 173 | port shepstone Appending stats\n",
      "Processing Record 174 | lavrentiya Appending stats\n",
      "Key does not exist for saleaula! Skipping\n",
      "Processing Record 176 | mahebourg Appending stats\n",
      "Processing Record 177 | esmeralda Appending stats\n",
      "Key does not exist for tawkar! Skipping\n",
      "Processing Record 179 | stubbekobing Appending stats\n",
      "Processing Record 180 | tilichiki Appending stats\n",
      "Processing Record 181 | novopokrovka Appending stats\n",
      "Processing Record 182 | sohag Appending stats\n",
      "Processing Record 183 | santa helena de goias Appending stats\n",
      "Processing Record 184 | hualmay Appending stats\n",
      "Processing Record 185 | souillac Appending stats\n",
      "Processing Record 186 | machaneng Appending stats\n",
      "Processing Record 187 | severo-kurilsk Appending stats\n",
      "Processing Record 188 | vylkove Appending stats\n",
      "Processing Record 189 | tual Appending stats\n",
      "Processing Record 190 | eldorado Appending stats\n",
      "Processing Record 191 | novikovo Appending stats\n",
      "Processing Record 192 | iqaluit Appending stats\n",
      "Processing Record 193 | narok Appending stats\n",
      "Processing Record 194 | westport Appending stats\n",
      "Processing Record 195 | yanam Appending stats\n",
      "Processing Record 196 | kavaratti Appending stats\n",
      "Processing Record 197 | turka Appending stats\n",
      "Processing Record 198 | faanui Appending stats\n",
      "Key does not exist for tuggurt! Skipping\n",
      "Processing Record 200 | axim Appending stats\n",
      "Key does not exist for hihifo! Skipping\n",
      "Key does not exist for karaul! Skipping\n",
      "Processing Record 203 | punta de piedra Appending stats\n",
      "Processing Record 204 | ilulissat Appending stats\n",
      "Processing Record 205 | mineiros Appending stats\n",
      "Processing Record 206 | salinas Appending stats\n",
      "Processing Record 207 | fairbanks Appending stats\n",
      "Processing Record 208 | horsham Appending stats\n",
      "Processing Record 209 | gat Appending stats\n",
      "Processing Record 210 | airai Appending stats\n",
      "Processing Record 211 | bowen Appending stats\n",
      "Processing Record 212 | rochegda Appending stats\n",
      "Processing Record 213 | fort smith Appending stats\n",
      "Key does not exist for kamenskoye! Skipping\n",
      "Processing Record 215 | monte alegre Appending stats\n",
      "Processing Record 216 | akyab Appending stats\n",
      "Processing Record 217 | olhao Appending stats\n",
      "Processing Record 218 | yatou Appending stats\n",
      "Processing Record 219 | male Appending stats\n",
      "Processing Record 220 | te anau Appending stats\n",
      "Processing Record 221 | minab Appending stats\n",
      "Processing Record 222 | beringovskiy Appending stats\n",
      "Processing Record 223 | aromashevo Appending stats\n",
      "Key does not exist for anar darreh! Skipping\n",
      "Processing Record 225 | burlington Appending stats\n",
      "Processing Record 226 | geraldton Appending stats\n",
      "Processing Record 227 | sampit Appending stats\n",
      "Processing Record 228 | dingle Appending stats\n",
      "Key does not exist for tidore! Skipping\n",
      "Processing Record 230 | port hedland Appending stats\n",
      "Processing Record 231 | nouadhibou Appending stats\n",
      "Processing Record 232 | esperance Appending stats\n",
      "Processing Record 233 | belyy yar Appending stats\n",
      "Processing Record 234 | chunskiy Appending stats\n",
      "Processing Record 235 | tazovskiy Appending stats\n",
      "Processing Record 236 | freeport Appending stats\n",
      "Processing Record 237 | dwarka Appending stats\n",
      "Processing Record 238 | novaya ladoga Appending stats\n",
      "Processing Record 239 | huarmey Appending stats\n",
      "Processing Record 240 | hay river Appending stats\n",
      "Processing Record 241 | brae Appending stats\n",
      "Processing Record 242 | qui nhon Appending stats\n",
      "Processing Record 243 | komsomolskiy Appending stats\n",
      "Processing Record 244 | zyryanovsk Appending stats\n",
      "Processing Record 245 | kuhdasht Appending stats\n",
      "Processing Record 246 | hobyo Appending stats\n",
      "Processing Record 247 | teya Appending stats\n",
      "Key does not exist for ust-kamchatsk! Skipping\n",
      "Processing Record 249 | saskylakh Appending stats\n",
      "Processing Record 250 | ngunguru Appending stats\n",
      "Processing Record 251 | georgetown Appending stats\n",
      "Processing Record 252 | bambanglipuro Appending stats\n",
      "Key does not exist for sentyabrskiy! Skipping\n",
      "Processing Record 254 | cody Appending stats\n",
      "Processing Record 255 | menzelinsk Appending stats\n",
      "Key does not exist for skalistyy! Skipping\n",
      "Processing Record 257 | leningradskiy Appending stats\n",
      "Processing Record 258 | sault sainte marie Appending stats\n",
      "Processing Record 259 | grindavik Appending stats\n",
      "Processing Record 260 | shahrud Appending stats\n",
      "Processing Record 261 | zabolotovka Appending stats\n",
      "Processing Record 262 | itarema Appending stats\n",
      "Processing Record 263 | tumaco Appending stats\n",
      "Processing Record 264 | katsuura Appending stats\n",
      "Processing Record 265 | bontang Appending stats\n",
      "Processing Record 266 | klaksvik Appending stats\n",
      "Processing Record 267 | guane Appending stats\n",
      "Processing Record 268 | ransang Appending stats\n",
      "Processing Record 269 | xai-xai Appending stats\n",
      "Processing Record 270 | aklavik Appending stats\n",
      "Processing Record 271 | inongo Appending stats\n",
      "Processing Record 272 | grand gaube Appending stats\n",
      "Processing Record 273 | sechura Appending stats\n",
      "Processing Record 274 | dashitou Appending stats\n",
      "Processing Record 275 | abbotsford Appending stats\n",
      "Processing Record 276 | matongo Appending stats\n",
      "Processing Record 277 | bandarbeyla Appending stats\n",
      "Processing Record 278 | isiro Appending stats\n",
      "Processing Record 279 | nanortalik Appending stats\n",
      "Processing Record 280 | nioro Appending stats\n",
      "Key does not exist for amderma! Skipping\n",
      "Processing Record 282 | caravelas Appending stats\n",
      "Processing Record 283 | lashio Appending stats\n",
      "Processing Record 284 | leua Appending stats\n",
      "Processing Record 285 | brusque Appending stats\n",
      "Processing Record 286 | nekhayevskiy Appending stats\n",
      "Processing Record 287 | adrar Appending stats\n",
      "Processing Record 288 | trairi Appending stats\n",
      "Processing Record 289 | sokol Appending stats\n",
      "Processing Record 290 | kavieng Appending stats\n",
      "Processing Record 291 | storforshei Appending stats\n",
      "Processing Record 292 | pathein Appending stats\n",
      "Processing Record 293 | sao filipe Appending stats\n",
      "Processing Record 294 | santa cruz de tenerife Appending stats\n",
      "Processing Record 295 | ishigaki Appending stats\n",
      "Processing Record 296 | namatanai Appending stats\n",
      "Processing Record 297 | chippenham Appending stats\n",
      "Processing Record 298 | touros Appending stats\n",
      "Processing Record 299 | tiksi Appending stats\n",
      "Key does not exist for nizhneyansk! Skipping\n",
      "Processing Record 301 | joura Appending stats\n",
      "Processing Record 302 | itoman Appending stats\n",
      "Processing Record 303 | faya Appending stats\n",
      "Processing Record 304 | mega Appending stats\n",
      "Processing Record 305 | whitecourt Appending stats\n",
      "Processing Record 306 | almaznyy Appending stats\n",
      "Processing Record 307 | vestmanna Appending stats\n",
      "Processing Record 308 | itaunja Appending stats\n",
      "Key does not exist for temaraia! Skipping\n",
      "Processing Record 310 | ketchikan Appending stats\n",
      "Processing Record 311 | west wendover Appending stats\n",
      "Processing Record 312 | dunedin Appending stats\n",
      "Processing Record 313 | nouakchott Appending stats\n",
      "Processing Record 314 | porto torres Appending stats\n",
      "Processing Record 315 | marawi Appending stats\n",
      "Processing Record 316 | bogoslovka Appending stats\n",
      "Processing Record 317 | hovd Appending stats\n",
      "Processing Record 318 | deputatskiy Appending stats\n",
      "Processing Record 319 | thunder bay Appending stats\n",
      "Processing Record 320 | mawlaik Appending stats\n",
      "Processing Record 321 | luderitz Appending stats\n",
      "Processing Record 322 | ushtobe Appending stats\n",
      "Key does not exist for attawapiskat! Skipping\n",
      "Processing Record 324 | wiarton Appending stats\n",
      "Processing Record 325 | cherskiy Appending stats\n",
      "Processing Record 326 | quatre cocos Appending stats\n",
      "Processing Record 327 | alyangula Appending stats\n",
      "Processing Record 328 | daru Appending stats\n",
      "Processing Record 329 | saint-philippe Appending stats\n",
      "Processing Record 330 | bara Appending stats\n",
      "Processing Record 331 | moree Appending stats\n",
      "Processing Record 332 | grand-santi Appending stats\n",
      "Processing Record 333 | taree Appending stats\n",
      "Processing Record 334 | buala Appending stats\n",
      "Processing Record 335 | praia Appending stats\n",
      "Processing Record 336 | edd Appending stats\n",
      "Processing Record 337 | sol-iletsk Appending stats\n"
     ]
    },
    {
     "name": "stdout",
     "output_type": "stream",
     "text": [
      "Processing Record 338 | rjukan Appending stats\n",
      "Processing Record 339 | paris Appending stats\n",
      "Processing Record 340 | impfondo Appending stats\n",
      "Processing Record 341 | carnarvon Appending stats\n",
      "Processing Record 342 | longyearbyen Appending stats\n",
      "Processing Record 343 | mayor pablo lagerenza Appending stats\n",
      "Processing Record 344 | jamiltepec Appending stats\n",
      "Processing Record 345 | sola Appending stats\n",
      "Processing Record 346 | amberley Appending stats\n",
      "Processing Record 347 | cozumel Appending stats\n",
      "Processing Record 348 | kuytun Appending stats\n",
      "Processing Record 349 | broken hill Appending stats\n",
      "Processing Record 350 | sorland Appending stats\n",
      "Processing Record 351 | ongandjera Appending stats\n",
      "Processing Record 352 | slochteren Appending stats\n",
      "Processing Record 353 | mandalay Appending stats\n",
      "Processing Record 354 | coahuayana Appending stats\n",
      "Processing Record 355 | vila velha Appending stats\n",
      "Processing Record 356 | am timan Appending stats\n",
      "Processing Record 357 | vondrozo Appending stats\n",
      "Processing Record 358 | kutum Appending stats\n",
      "Processing Record 359 | wanaka Appending stats\n",
      "Processing Record 360 | juneau Appending stats\n",
      "Processing Record 361 | sabang Appending stats\n",
      "Processing Record 362 | avera Appending stats\n",
      "Processing Record 363 | henties bay Appending stats\n",
      "Processing Record 364 | ust-kulom Appending stats\n",
      "Processing Record 365 | pop Appending stats\n",
      "Processing Record 366 | port-gentil Appending stats\n",
      "Processing Record 367 | tucuman Appending stats\n",
      "Processing Record 368 | mecca Appending stats\n",
      "Key does not exist for umzimvubu! Skipping\n",
      "Processing Record 370 | tautira Appending stats\n",
      "Key does not exist for dolbeau! Skipping\n",
      "Processing Record 372 | port keats Appending stats\n",
      "Processing Record 373 | celestun Appending stats\n",
      "Processing Record 374 | kiama Appending stats\n",
      "Processing Record 375 | korla Appending stats\n",
      "Processing Record 376 | olafsvik Appending stats\n",
      "Key does not exist for karauzyak! Skipping\n",
      "Processing Record 378 | alice springs Appending stats\n",
      "Processing Record 379 | luis correia Appending stats\n",
      "Processing Record 380 | tabou Appending stats\n",
      "Processing Record 381 | negombo Appending stats\n",
      "Processing Record 382 | kieta Appending stats\n",
      "Processing Record 383 | elk river Appending stats\n",
      "Processing Record 384 | wattegama Appending stats\n",
      "Processing Record 385 | sibolga Appending stats\n",
      "Processing Record 386 | sisimiut Appending stats\n",
      "Key does not exist for bolungarvik! Skipping\n",
      "Processing Record 388 | provideniya Appending stats\n",
      "Processing Record 389 | san cristobal Appending stats\n",
      "Processing Record 390 | anchorage Appending stats\n",
      "Processing Record 391 | abilene Appending stats\n",
      "Processing Record 392 | astana Appending stats\n",
      "Processing Record 393 | bud Appending stats\n",
      "Processing Record 394 | mananjary Appending stats\n",
      "Processing Record 395 | ormara Appending stats\n",
      "Processing Record 396 | rong kwang Appending stats\n",
      "Processing Record 397 | halifax Appending stats\n",
      "Processing Record 398 | roald Appending stats\n",
      "Processing Record 399 | sarmanovo Appending stats\n",
      "Processing Record 400 | sosva Appending stats\n",
      "Processing Record 401 | pangnirtung Appending stats\n",
      "Processing Record 402 | broome Appending stats\n",
      "Processing Record 403 | heishan Appending stats\n",
      "Processing Record 404 | nosy varika Appending stats\n",
      "Processing Record 405 | pilibanga Appending stats\n",
      "Processing Record 406 | bonavista Appending stats\n",
      "Processing Record 407 | fukue Appending stats\n",
      "Processing Record 408 | qingdao Appending stats\n",
      "Processing Record 409 | bani Appending stats\n",
      "Processing Record 410 | salinopolis Appending stats\n",
      "Processing Record 411 | ostrovnoy Appending stats\n",
      "Processing Record 412 | aksum Appending stats\n",
      "Processing Record 413 | darnah Appending stats\n",
      "Processing Record 414 | camacha Appending stats\n",
      "Processing Record 415 | zhanjiang Appending stats\n",
      "Processing Record 416 | clyde river Appending stats\n",
      "Processing Record 417 | kimbe Appending stats\n",
      "Processing Record 418 | koungheul Appending stats\n",
      "Processing Record 419 | kang Appending stats\n",
      "Processing Record 420 | hun Appending stats\n",
      "Processing Record 421 | the valley Appending stats\n",
      "Processing Record 422 | alofi Appending stats\n",
      "Processing Record 423 | sadove Appending stats\n",
      "Processing Record 424 | shache Appending stats\n",
      "Processing Record 425 | sarangani Appending stats\n",
      "Processing Record 426 | la ronge Appending stats\n",
      "Processing Record 427 | karaton Appending stats\n",
      "Processing Record 428 | mandalgovi Appending stats\n",
      "Processing Record 429 | nizhneudinsk Appending stats\n",
      "Processing Record 430 | buchanan Appending stats\n",
      "Processing Record 431 | joshimath Appending stats\n",
      "Processing Record 432 | kyzyl-suu Appending stats\n",
      "Processing Record 433 | kampong cham Appending stats\n",
      "Processing Record 434 | moskovskiy Appending stats\n",
      "Processing Record 435 | odweyne Appending stats\n",
      "Processing Record 436 | iskilip Appending stats\n",
      "Processing Record 437 | asau Appending stats\n",
      "Key does not exist for palabuhanratu! Skipping\n",
      "Processing Record 439 | dicabisagan Appending stats\n",
      "Processing Record 440 | plouzane Appending stats\n",
      "Processing Record 441 | bayir Appending stats\n",
      "Processing Record 442 | acajutla Appending stats\n",
      "Processing Record 443 | mabaruma Appending stats\n",
      "Processing Record 444 | porto velho Appending stats\n",
      "Processing Record 445 | dodge city Appending stats\n",
      "Processing Record 446 | flin flon Appending stats\n",
      "Key does not exist for grand centre! Skipping\n",
      "Processing Record 448 | selfoss Appending stats\n",
      "Processing Record 449 | hue Appending stats\n",
      "Processing Record 450 | port macquarie Appending stats\n",
      "Processing Record 451 | palmer Appending stats\n",
      "Key does not exist for meyungs! Skipping\n",
      "Processing Record 453 | marsh harbour Appending stats\n",
      "Key does not exist for kuche! Skipping\n",
      "Processing Record 455 | chadiza Appending stats\n",
      "Processing Record 456 | mitu Appending stats\n",
      "Processing Record 457 | portree Appending stats\n",
      "Processing Record 458 | kemijarvi Appending stats\n",
      "Processing Record 459 | kizukuri Appending stats\n",
      "Processing Record 460 | srikakulam Appending stats\n",
      "Processing Record 461 | gavle Appending stats\n",
      "Processing Record 462 | storsteinnes Appending stats\n",
      "Processing Record 463 | sompeta Appending stats\n",
      "Processing Record 464 | sosnogorsk Appending stats\n",
      "Processing Record 465 | san patricio Appending stats\n",
      "Processing Record 466 | sinjai Appending stats\n",
      "Processing Record 467 | pevek Appending stats\n",
      "Processing Record 468 | ilan Appending stats\n",
      "Processing Record 469 | son la Appending stats\n",
      "Processing Record 470 | moose factory Appending stats\n",
      "Processing Record 471 | kirakira Appending stats\n",
      "Processing Record 472 | berlevag Appending stats\n",
      "Processing Record 473 | solnechnyy Appending stats\n",
      "Processing Record 474 | saint anthony Appending stats\n",
      "Processing Record 475 | zavetnoye Appending stats\n",
      "Processing Record 476 | north platte Appending stats\n",
      "Processing Record 477 | malakal Appending stats\n",
      "Processing Record 478 | sarandi Appending stats\n",
      "Processing Record 479 | udachnyy Appending stats\n",
      "Processing Record 480 | anbu Appending stats\n",
      "Processing Record 481 | fortuna Appending stats\n",
      "Key does not exist for formoso do araguaia! Skipping\n",
      "Key does not exist for khormuj! Skipping\n",
      "Processing Record 484 | mabay Appending stats\n",
      "Processing Record 485 | zhangye Appending stats\n",
      "Processing Record 486 | chimala Appending stats\n",
      "Processing Record 487 | turukhansk Appending stats\n",
      "Processing Record 488 | bageshwar Appending stats\n",
      "Processing Record 489 | obosi Appending stats\n",
      "Processing Record 490 | biaora Appending stats\n",
      "Processing Record 491 | evensk Appending stats\n",
      "Processing Record 492 | gizo Appending stats\n",
      "Processing Record 493 | lensk Appending stats\n",
      "Processing Record 494 | quarai Appending stats\n",
      "Processing Record 495 | gopalpur Appending stats\n",
      "Processing Record 496 | songea Appending stats\n",
      "Processing Record 497 | bafia Appending stats\n",
      "Processing Record 498 | palasbari Appending stats\n",
      "Processing Record 499 | shar Appending stats\n",
      "Processing Record 500 | matara Appending stats\n",
      "Processing Record 501 | vao Appending stats\n",
      "Processing Record 502 | vanimo Appending stats\n",
      "Processing Record 503 | lorengau Appending stats\n",
      "Processing Record 504 | andros town Appending stats\n",
      "Processing Record 505 | san quintin Appending stats\n",
      "Processing Record 506 | shimoda Appending stats\n"
     ]
    },
    {
     "name": "stdout",
     "output_type": "stream",
     "text": [
      "Processing Record 507 | nago Appending stats\n",
      "Processing Record 508 | progreso Appending stats\n",
      "Processing Record 509 | rochester Appending stats\n",
      "Processing Record 510 | pavino Appending stats\n",
      "Key does not exist for dien bien! Skipping\n",
      "Key does not exist for samusu! Skipping\n",
      "Processing Record 513 | dubbo Appending stats\n",
      "Processing Record 514 | russell Appending stats\n",
      "Processing Record 515 | sur Appending stats\n",
      "Processing Record 516 | otradnoye Appending stats\n",
      "Processing Record 517 | north bend Appending stats\n",
      "Processing Record 518 | krasnoselkup Appending stats\n",
      "Processing Record 519 | omboue Appending stats\n",
      "Processing Record 520 | bathsheba Appending stats\n",
      "Processing Record 521 | chisindia Appending stats\n",
      "Processing Record 522 | almeria Appending stats\n",
      "Processing Record 523 | waddan Appending stats\n",
      "Processing Record 524 | skjervoy Appending stats\n",
      "Processing Record 525 | onega Appending stats\n",
      "Key does not exist for barbar! Skipping\n",
      "Processing Record 527 | brunswick Appending stats\n",
      "Processing Record 528 | chkalovskoye Appending stats\n",
      "Processing Record 529 | tuatapere Appending stats\n",
      "Processing Record 530 | amapa Appending stats\n",
      "Processing Record 531 | seoul Appending stats\n",
      "Processing Record 532 | san rafael Appending stats\n",
      "Processing Record 533 | kontagora Appending stats\n",
      "Processing Record 534 | oksfjord Appending stats\n",
      "Key does not exist for rungata! Skipping\n",
      "Processing Record 536 | troitskoye Appending stats\n",
      "Processing Record 537 | chaohu Appending stats\n",
      "Processing Record 538 | muhos Appending stats\n",
      "Processing Record 539 | emerald Appending stats\n",
      "Processing Record 540 | ewa beach Appending stats\n",
      "Processing Record 541 | kinlochleven Appending stats\n",
      "Processing Record 542 | svetlyy Appending stats\n",
      "Processing Record 543 | port lincoln Appending stats\n",
      "Processing Record 544 | sobolevo Appending stats\n",
      "Processing Record 545 | makakilo city Appending stats\n",
      "Processing Record 546 | churapcha Appending stats\n",
      "Processing Record 547 | aras Appending stats\n",
      "Processing Record 548 | maneadero Appending stats\n",
      "Processing Record 549 | waingapu Appending stats\n",
      "Processing Record 550 | caranavi Appending stats\n",
      "Processing Record 551 | mount isa Appending stats\n",
      "Processing Record 552 | nuuk Appending stats\n",
      "Processing Record 553 | gamba Appending stats\n",
      "Processing Record 554 | staryy nadym Appending stats\n",
      "Processing Record 555 | cap malheureux Appending stats\n",
      "Processing Record 556 | nishihara Appending stats\n",
      "Processing Record 557 | ntungamo Appending stats\n",
      "Processing Record 558 | peleduy Appending stats\n",
      "Processing Record 559 | havoysund Appending stats\n",
      "Processing Record 560 | bethel Appending stats\n",
      "Processing Record 561 | padang Appending stats\n",
      "Processing Record 562 | magistralnyy Appending stats\n",
      "Processing Record 563 | boksitogorsk Appending stats\n",
      "Processing Record 564 | kamloops Appending stats\n",
      "Processing Record 565 | tosya Appending stats\n",
      "Key does not exist for burica! Skipping\n",
      "Processing Record 567 | gasa Appending stats\n",
      "Processing Record 568 | pyu Appending stats\n",
      "Processing Record 569 | sergeyevka Appending stats\n",
      "Processing Record 570 | ahuimanu Appending stats\n",
      "Processing Record 571 | toyooka Appending stats\n",
      "Processing Record 572 | bellary Appending stats\n",
      "Processing Record 573 | sangar Appending stats\n",
      "Processing Record 574 | kenora Appending stats\n",
      "Processing Record 575 | nadym Appending stats\n",
      "Processing Record 576 | yar-sale Appending stats\n",
      "Processing Record 577 | nerchinskiy zavod Appending stats\n",
      "Processing Record 578 | tukrah Appending stats\n",
      "Processing Record 579 | olpad Appending stats\n",
      "Key does not exist for ngukurr! Skipping\n",
      "Key does not exist for eskasem! Skipping\n",
      "Processing Record 582 | port hawkesbury Appending stats\n",
      "Processing Record 583 | naze Appending stats\n",
      "Processing Record 584 | invermere Appending stats\n",
      "Processing Record 585 | witney Appending stats\n",
      "Processing Record 586 | comodoro rivadavia Appending stats\n",
      "Processing Record 587 | fare Appending stats\n",
      "Processing Record 588 | richards bay Appending stats\n",
      "Processing Record 589 | abu dhabi Appending stats\n",
      "Processing Record 590 | san francisco Appending stats\n",
      "Processing Record 591 | cradock Appending stats\n",
      "Processing Record 592 | front royal Appending stats\n",
      "Processing Record 593 | samarai Appending stats\n",
      "Processing Record 594 | hamilton Appending stats\n",
      "Processing Record 595 | sandakan Appending stats\n",
      "Processing Record 596 | kungurtug Appending stats\n",
      "Processing Record 597 | tolmachevo Appending stats\n",
      "Processing Record 598 | ponta delgada Appending stats\n",
      "Data retrieval complete\n"
     ]
    }
   ],
   "source": [
    "# Save config information\n",
    "url = \"http://api.openweathermap.org/data/2.5/weather?\"\n",
    "units = \"imperial\"\n",
    "\n",
    "# Build query URL and request your results in F\n",
    "query_url = url + \"appid=\" + weather_api_key + \"&units=\" + units + \"&q=\"\n",
    "\n",
    "# Set up lists to hold temperature, humidity, cloudiness, wind speed\n",
    "name = []\n",
    "country = []\n",
    "lat = []\n",
    "lng = []\n",
    "max_temp = []\n",
    "humid = []\n",
    "cloud = []\n",
    "wind_speed = []\n",
    "date = []\n",
    "\n",
    "# Loop through the cities and get weather data\n",
    "print(\"Beginning data retrieval\")    \n",
    "\n",
    "for i, city in enumerate(cities):  \n",
    "    # Get weather data\n",
    "    response = requests.get(query_url + city).json()\n",
    "    \n",
    "    # Append weather data if available\n",
    "    try:\n",
    "        name.append(response['name'])\n",
    "        country.append(response['sys']['country'])\n",
    "        lat.append(response['coord']['lat'])\n",
    "        lng.append(response['coord']['lon'])\n",
    "        max_temp.append(response['main']['temp_max'])\n",
    "        humid.append(response['main']['humidity'])\n",
    "        cloud.append(response['clouds']['all'])\n",
    "        wind_speed.append(response['wind']['speed'])\n",
    "        date.append(response['dt'])\n",
    "        \n",
    "        print(f\"Processing Record {i} | {city} Appending stats\")\n",
    "    \n",
    "    # Handle exceptions for cities with no weather data available\n",
    "    except KeyError:\n",
    "        print(f\"Key does not exist for {city}! Skipping\")\n",
    "        i = i-1\n",
    "        pass\n",
    "\n",
    "print(\"Data retrieval complete\")    "
   ]
  },
  {
   "cell_type": "markdown",
   "metadata": {},
   "source": [
    "### Convert Raw Data to DataFrame\n",
    "* Export the city data into a .csv.\n",
    "* Display the DataFrame"
   ]
  },
  {
   "cell_type": "code",
   "execution_count": 50,
   "metadata": {},
   "outputs": [],
   "source": [
    "# Create a dataframe\n",
    "weather_dict = {\n",
    "    \"City\": name,\n",
    "    \"Latitude\": lat,\n",
    "    \"Longitude\": lng,\n",
    "    \"Maximum Temperature\": max_temp,\n",
    "    \"Humidity\": humid,\n",
    "    \"Cloudiness\": cloud, \n",
    "    \"Wind Speed\": wind_speed,    \n",
    "    \"Country\": country,\n",
    "    \"Date\": date\n",
    "}\n",
    "city_data = pd.DataFrame(weather_dict)\n",
    "\n",
    "# Export into .csv\n",
    "city_data.to_csv(\"../output/city_data.csv\", encoding = \"utf-8\", index=False)"
   ]
  },
  {
   "cell_type": "code",
   "execution_count": 8,
   "metadata": {},
   "outputs": [
    {
     "data": {
      "text/html": [
       "<div>\n",
       "<style scoped>\n",
       "    .dataframe tbody tr th:only-of-type {\n",
       "        vertical-align: middle;\n",
       "    }\n",
       "\n",
       "    .dataframe tbody tr th {\n",
       "        vertical-align: top;\n",
       "    }\n",
       "\n",
       "    .dataframe thead th {\n",
       "        text-align: right;\n",
       "    }\n",
       "</style>\n",
       "<table border=\"1\" class=\"dataframe\">\n",
       "  <thead>\n",
       "    <tr style=\"text-align: right;\">\n",
       "      <th></th>\n",
       "      <th>City</th>\n",
       "      <th>Latitude</th>\n",
       "      <th>Longitude</th>\n",
       "      <th>Maximum Temperature</th>\n",
       "      <th>Humidity</th>\n",
       "      <th>Cloudiness</th>\n",
       "      <th>Wind Speed</th>\n",
       "      <th>Country</th>\n",
       "      <th>Date</th>\n",
       "    </tr>\n",
       "  </thead>\n",
       "  <tbody>\n",
       "    <tr>\n",
       "      <th>0</th>\n",
       "      <td>Rikitea</td>\n",
       "      <td>-23.12</td>\n",
       "      <td>-134.97</td>\n",
       "      <td>72.48</td>\n",
       "      <td>77</td>\n",
       "      <td>100</td>\n",
       "      <td>16.75</td>\n",
       "      <td>PF</td>\n",
       "      <td>1601736544</td>\n",
       "    </tr>\n",
       "    <tr>\n",
       "      <th>1</th>\n",
       "      <td>Avarua</td>\n",
       "      <td>-21.21</td>\n",
       "      <td>-159.78</td>\n",
       "      <td>71.60</td>\n",
       "      <td>83</td>\n",
       "      <td>32</td>\n",
       "      <td>3.36</td>\n",
       "      <td>CK</td>\n",
       "      <td>1601736545</td>\n",
       "    </tr>\n",
       "    <tr>\n",
       "      <th>2</th>\n",
       "      <td>Sitka</td>\n",
       "      <td>57.05</td>\n",
       "      <td>-135.33</td>\n",
       "      <td>51.80</td>\n",
       "      <td>87</td>\n",
       "      <td>40</td>\n",
       "      <td>6.93</td>\n",
       "      <td>US</td>\n",
       "      <td>1601736546</td>\n",
       "    </tr>\n",
       "    <tr>\n",
       "      <th>3</th>\n",
       "      <td>Port Alfred</td>\n",
       "      <td>-33.59</td>\n",
       "      <td>26.89</td>\n",
       "      <td>62.17</td>\n",
       "      <td>82</td>\n",
       "      <td>91</td>\n",
       "      <td>22.21</td>\n",
       "      <td>ZA</td>\n",
       "      <td>1601736546</td>\n",
       "    </tr>\n",
       "    <tr>\n",
       "      <th>4</th>\n",
       "      <td>Mataura</td>\n",
       "      <td>-46.19</td>\n",
       "      <td>168.86</td>\n",
       "      <td>55.99</td>\n",
       "      <td>89</td>\n",
       "      <td>100</td>\n",
       "      <td>11.99</td>\n",
       "      <td>NZ</td>\n",
       "      <td>1601736547</td>\n",
       "    </tr>\n",
       "  </tbody>\n",
       "</table>\n",
       "</div>"
      ],
      "text/plain": [
       "          City  Latitude  Longitude  Maximum Temperature  Humidity  \\\n",
       "0      Rikitea    -23.12    -134.97                72.48        77   \n",
       "1       Avarua    -21.21    -159.78                71.60        83   \n",
       "2        Sitka     57.05    -135.33                51.80        87   \n",
       "3  Port Alfred    -33.59      26.89                62.17        82   \n",
       "4      Mataura    -46.19     168.86                55.99        89   \n",
       "\n",
       "   Cloudiness  Wind Speed Country        Date  \n",
       "0         100       16.75      PF  1601736544  \n",
       "1          32        3.36      CK  1601736545  \n",
       "2          40        6.93      US  1601736546  \n",
       "3          91       22.21      ZA  1601736546  \n",
       "4         100       11.99      NZ  1601736547  "
      ]
     },
     "execution_count": 8,
     "metadata": {},
     "output_type": "execute_result"
    }
   ],
   "source": [
    "# Display the DataFrame\n",
    "city_data = pd.read_csv(\"../output/city_data.csv\")\n",
    "city_data.head()"
   ]
  },
  {
   "cell_type": "markdown",
   "metadata": {},
   "source": [
    "## Inspect the data and remove the cities where the humidity > 100%.\n",
    "----\n",
    "Skip this step if there are no cities that have humidity > 100%. "
   ]
  },
  {
   "cell_type": "code",
   "execution_count": 9,
   "metadata": {},
   "outputs": [
    {
     "data": {
      "text/html": [
       "<div>\n",
       "<style scoped>\n",
       "    .dataframe tbody tr th:only-of-type {\n",
       "        vertical-align: middle;\n",
       "    }\n",
       "\n",
       "    .dataframe tbody tr th {\n",
       "        vertical-align: top;\n",
       "    }\n",
       "\n",
       "    .dataframe thead th {\n",
       "        text-align: right;\n",
       "    }\n",
       "</style>\n",
       "<table border=\"1\" class=\"dataframe\">\n",
       "  <thead>\n",
       "    <tr style=\"text-align: right;\">\n",
       "      <th></th>\n",
       "      <th>Latitude</th>\n",
       "      <th>Longitude</th>\n",
       "      <th>Maximum Temperature</th>\n",
       "      <th>Humidity</th>\n",
       "      <th>Cloudiness</th>\n",
       "      <th>Wind Speed</th>\n",
       "      <th>Date</th>\n",
       "    </tr>\n",
       "  </thead>\n",
       "  <tbody>\n",
       "    <tr>\n",
       "      <th>count</th>\n",
       "      <td>553.000000</td>\n",
       "      <td>553.000000</td>\n",
       "      <td>553.000000</td>\n",
       "      <td>553.000000</td>\n",
       "      <td>553.000000</td>\n",
       "      <td>553.000000</td>\n",
       "      <td>5.530000e+02</td>\n",
       "    </tr>\n",
       "    <tr>\n",
       "      <th>mean</th>\n",
       "      <td>21.857577</td>\n",
       "      <td>20.825027</td>\n",
       "      <td>65.636130</td>\n",
       "      <td>70.141049</td>\n",
       "      <td>52.376130</td>\n",
       "      <td>8.575081</td>\n",
       "      <td>1.601737e+09</td>\n",
       "    </tr>\n",
       "    <tr>\n",
       "      <th>std</th>\n",
       "      <td>32.555690</td>\n",
       "      <td>88.149501</td>\n",
       "      <td>18.453173</td>\n",
       "      <td>22.050214</td>\n",
       "      <td>37.827214</td>\n",
       "      <td>5.660753</td>\n",
       "      <td>1.325691e+02</td>\n",
       "    </tr>\n",
       "    <tr>\n",
       "      <th>min</th>\n",
       "      <td>-54.800000</td>\n",
       "      <td>-175.200000</td>\n",
       "      <td>19.810000</td>\n",
       "      <td>6.000000</td>\n",
       "      <td>0.000000</td>\n",
       "      <td>0.090000</td>\n",
       "      <td>1.601736e+09</td>\n",
       "    </tr>\n",
       "    <tr>\n",
       "      <th>25%</th>\n",
       "      <td>-2.920000</td>\n",
       "      <td>-54.070000</td>\n",
       "      <td>52.380000</td>\n",
       "      <td>58.000000</td>\n",
       "      <td>15.000000</td>\n",
       "      <td>3.710000</td>\n",
       "      <td>1.601737e+09</td>\n",
       "    </tr>\n",
       "    <tr>\n",
       "      <th>50%</th>\n",
       "      <td>24.760000</td>\n",
       "      <td>27.620000</td>\n",
       "      <td>67.800000</td>\n",
       "      <td>76.000000</td>\n",
       "      <td>58.000000</td>\n",
       "      <td>7.670000</td>\n",
       "      <td>1.601737e+09</td>\n",
       "    </tr>\n",
       "    <tr>\n",
       "      <th>75%</th>\n",
       "      <td>50.030000</td>\n",
       "      <td>95.320000</td>\n",
       "      <td>80.100000</td>\n",
       "      <td>87.000000</td>\n",
       "      <td>90.000000</td>\n",
       "      <td>11.410000</td>\n",
       "      <td>1.601737e+09</td>\n",
       "    </tr>\n",
       "    <tr>\n",
       "      <th>max</th>\n",
       "      <td>78.220000</td>\n",
       "      <td>179.320000</td>\n",
       "      <td>107.600000</td>\n",
       "      <td>100.000000</td>\n",
       "      <td>100.000000</td>\n",
       "      <td>27.510000</td>\n",
       "      <td>1.601737e+09</td>\n",
       "    </tr>\n",
       "  </tbody>\n",
       "</table>\n",
       "</div>"
      ],
      "text/plain": [
       "         Latitude   Longitude  Maximum Temperature    Humidity  Cloudiness  \\\n",
       "count  553.000000  553.000000           553.000000  553.000000  553.000000   \n",
       "mean    21.857577   20.825027            65.636130   70.141049   52.376130   \n",
       "std     32.555690   88.149501            18.453173   22.050214   37.827214   \n",
       "min    -54.800000 -175.200000            19.810000    6.000000    0.000000   \n",
       "25%     -2.920000  -54.070000            52.380000   58.000000   15.000000   \n",
       "50%     24.760000   27.620000            67.800000   76.000000   58.000000   \n",
       "75%     50.030000   95.320000            80.100000   87.000000   90.000000   \n",
       "max     78.220000  179.320000           107.600000  100.000000  100.000000   \n",
       "\n",
       "       Wind Speed          Date  \n",
       "count  553.000000  5.530000e+02  \n",
       "mean     8.575081  1.601737e+09  \n",
       "std      5.660753  1.325691e+02  \n",
       "min      0.090000  1.601736e+09  \n",
       "25%      3.710000  1.601737e+09  \n",
       "50%      7.670000  1.601737e+09  \n",
       "75%     11.410000  1.601737e+09  \n",
       "max     27.510000  1.601737e+09  "
      ]
     },
     "execution_count": 9,
     "metadata": {},
     "output_type": "execute_result"
    }
   ],
   "source": [
    "# Get a statistical overview of the dataframe to determine the max value for humidity\n",
    "city_data.describe()"
   ]
  },
  {
   "cell_type": "markdown",
   "metadata": {},
   "source": [
    "## Plotting the Data\n",
    "* Use proper labeling of the plots using plot titles (including date of analysis) and axes labels.\n",
    "* Save the plotted figures as .pngs."
   ]
  },
  {
   "cell_type": "markdown",
   "metadata": {},
   "source": [
    "## Latitude vs. Temperature Plot"
   ]
  },
  {
   "cell_type": "code",
   "execution_count": 15,
   "metadata": {
    "scrolled": true
   },
   "outputs": [
    {
     "data": {
      "image/png": "[encoded data removed]",
      "text/plain": [
       "<Figure size 432x288 with 1 Axes>"
      ]
     },
     "metadata": {
      "needs_background": "light"
     },
     "output_type": "display_data"
    }
   ],
   "source": [
    "# Convert to floats and store Latitude and Temperature as x and y values\n",
    "x_values = city_data['Latitude'].astype('float')\n",
    "y_values = city_data['Maximum Temperature'].astype('float')\n",
    "\n",
    "# Plot scatter plot\n",
    "plt.scatter(x_values, y_values)\n",
    "\n",
    "# Label plot\n",
    "plt.xlabel('Latitude')\n",
    "plt.ylabel('Maximum Temperature')\n",
    "plt.title('Latitude vs. Maximum Temperature Plot (04/10/20)')\n",
    "plt.grid()\n",
    "plt.savefig(\"../output/latitude_temp_plot.png\")"
   ]
  },
  {
   "cell_type": "markdown",
   "metadata": {},
   "source": [
    "The code is using matplotlib to create a scatterplot using two series (latitude and maximum temperature) from a dataframe containing 553 cities. The scatterplot shows that as latitude increases, the temperature decreases, and vice versa. It gets warmer towards the equator. "
   ]
  },
  {
   "cell_type": "markdown",
   "metadata": {},
   "source": [
    "## Latitude vs. Humidity Plot"
   ]
  },
  {
   "cell_type": "code",
   "execution_count": 16,
   "metadata": {},
   "outputs": [
    {
     "data": {
      "image/png": "[encoded data removed]",
      "text/plain": [
       "<Figure size 432x288 with 1 Axes>"
      ]
     },
     "metadata": {
      "needs_background": "light"
     },
     "output_type": "display_data"
    }
   ],
   "source": [
    "# Convert to floats and store Latitude and Humidity as x and y values\n",
    "x_values = city_data['Latitude'].astype('float')\n",
    "y_values = city_data['Humidity'].astype('float')\n",
    "\n",
    "# Plot scatter plot\n",
    "plt.scatter(x_values, y_values)\n",
    "\n",
    "# Label plot\n",
    "plt.xlabel('Latitude')\n",
    "plt.ylabel('Humidity')\n",
    "plt.title('Latitude vs. Humidity Plot (04/10/20)')\n",
    "plt.savefig(\"../output/latitude_humid_plot.png\")"
   ]
  },
  {
   "cell_type": "markdown",
   "metadata": {},
   "source": [
    "The code is using matplotlib to create a scatterplot using two series (latitude and humidity) from a dataframe containing 553 cities. The scatterplot shows no correlation between humidity and latitude."
   ]
  },
  {
   "cell_type": "markdown",
   "metadata": {},
   "source": [
    "## Latitude vs. Cloudiness Plot"
   ]
  },
  {
   "cell_type": "code",
   "execution_count": 17,
   "metadata": {},
   "outputs": [
    {
     "data": {
      "image/png": "[encoded data removed]",
      "text/plain": [
       "<Figure size 432x288 with 1 Axes>"
      ]
     },
     "metadata": {
      "needs_background": "light"
     },
     "output_type": "display_data"
    }
   ],
   "source": [
    "# Convert to floats and store Latitude and Temperature as x and y values\n",
    "x_values = city_data['Latitude'].astype('float')\n",
    "y_values = city_data['Cloudiness'].astype('float')\n",
    "\n",
    "# Plot scatter plot\n",
    "plt.scatter(x_values, y_values)\n",
    "\n",
    "# Label plot\n",
    "plt.xlabel('Latitude')\n",
    "plt.ylabel('Cloudiness')\n",
    "plt.title('Latitude vs. Cloudiness Plot (04/10/20)')\n",
    "plt.savefig(\"../output/latitude_cloud_plot.png\")"
   ]
  },
  {
   "cell_type": "markdown",
   "metadata": {},
   "source": [
    "The code is using matplotlib to create a scatterplot using two series (latitude and cloudiness) from a dataframe containing 553 cities. The scatterplot shows no correlation between latitude and cloudiness."
   ]
  },
  {
   "cell_type": "markdown",
   "metadata": {},
   "source": [
    "## Latitude vs. Wind Speed Plot"
   ]
  },
  {
   "cell_type": "code",
   "execution_count": 18,
   "metadata": {},
   "outputs": [
    {
     "data": {
      "image/png": "[encoded data removed]",
      "text/plain": [
       "<Figure size 432x288 with 1 Axes>"
      ]
     },
     "metadata": {
      "needs_background": "light"
     },
     "output_type": "display_data"
    }
   ],
   "source": [
    "# Convert to floats and store Latitude and Temperature as x and y values\n",
    "x_values = city_data['Latitude'].astype('float')\n",
    "y_values = city_data['Wind Speed'].astype('float')\n",
    "\n",
    "# Plot scatter plot\n",
    "plt.scatter(x_values, y_values)\n",
    "\n",
    "# Label plot\n",
    "plt.xlabel('Latitude')\n",
    "plt.ylabel('Wind Speed')\n",
    "plt.title('Latitude vs. Wind Speed Plot (04/10/20)')\n",
    "plt.savefig(\"../output/latitude_wind_plot.png\")"
   ]
  },
  {
   "cell_type": "markdown",
   "metadata": {},
   "source": [
    "The code is using matplotlib to create a scatterplot using two series (latitude and wind speed) from a dataframe containing 553 cities. The scatterplot shows there may be a weak to no positive correlation between latitude and wind speed. Recommend further analysis using the Pearson's correlation coefficient."
   ]
  },
  {
   "cell_type": "markdown",
   "metadata": {},
   "source": [
    "## Linear Regression"
   ]
  },
  {
   "cell_type": "code",
   "execution_count": 19,
   "metadata": {},
   "outputs": [],
   "source": [
    "# Create Northern Hemisphere DataFrame\n",
    "north_city_data = city_data.loc[city_data[\"Latitude\"]>=0] \n",
    "\n",
    "# Create Southern Hemisphere DataFrame\n",
    "south_city_data = city_data.loc[city_data[\"Latitude\"]<0] "
   ]
  },
  {
   "cell_type": "markdown",
   "metadata": {},
   "source": [
    "####  Northern Hemisphere - Max Temp vs. Latitude Linear Regression"
   ]
  },
  {
   "cell_type": "code",
   "execution_count": 20,
   "metadata": {},
   "outputs": [
    {
     "name": "stdout",
     "output_type": "stream",
     "text": [
      "R squared: 0.6958826867968463\n"
     ]
    },
    {
     "data": {
      "image/png": "[encoded data removed]",
      "text/plain": [
       "<Figure size 432x288 with 1 Axes>"
      ]
     },
     "metadata": {
      "needs_background": "light"
     },
     "output_type": "display_data"
    }
   ],
   "source": [
    "# Convert to floats and store Latitude and Max Temp as x and y values\n",
    "x_values = north_city_data['Latitude'].astype('float')\n",
    "y_values = north_city_data['Maximum Temperature'].astype('float')\n",
    "\n",
    "# Run linear regression\n",
    "(slope, intercept, rvalue, pvalue, stderr) = linregress(x_values, y_values)\n",
    "\n",
    "# Create equation of line\n",
    "fit = slope * x_values + intercept\n",
    "line_eq = \"y = \" + str(round(slope,2)) + \"x + \" + str(round(intercept,2))\n",
    "\n",
    "# Plot scatter plot\n",
    "plt.scatter(x_values, y_values)\n",
    "\n",
    "# Plot regression line\n",
    "plt.plot(x_values, fit, \"r-\")\n",
    "plt.annotate(line_eq,(6,50),fontsize=10,color=\"red\")\n",
    "\n",
    "# Label plot\n",
    "plt.xlabel('Latitude')\n",
    "plt.ylabel('Maximum Temperature')\n",
    "plt.title('Northern Hemisphere: Maximum Temperature vs. Latitude Linear Regression (04/10/20)')\n",
    "\n",
    "# Print r square value\n",
    "print(f\"R squared: {rvalue**2}\")\n",
    "\n",
    "# Save an image of chart\n",
    "plt.savefig(\"../output/north_maxtemp_regres.png\")\n",
    "\n",
    "# Show plot\n",
    "plt.show()"
   ]
  },
  {
   "cell_type": "markdown",
   "metadata": {},
   "source": [
    "The linear regression is modelling a moderate negative correlation between maximum temperature and latitude for 553 randomly selected cities in the Northern Hemisphere."
   ]
  },
  {
   "cell_type": "markdown",
   "metadata": {},
   "source": [
    "####  Southern Hemisphere - Max Temp vs. Latitude Linear Regression"
   ]
  },
  {
   "cell_type": "code",
   "execution_count": 21,
   "metadata": {},
   "outputs": [
    {
     "name": "stdout",
     "output_type": "stream",
     "text": [
      "R squared: 0.4772453512749643\n"
     ]
    },
    {
     "data": {
      "image/png": "[encoded data removed]",
      "text/plain": [
       "<Figure size 432x288 with 1 Axes>"
      ]
     },
     "metadata": {
      "needs_background": "light"
     },
     "output_type": "display_data"
    }
   ],
   "source": [
    "# Convert to floats and store Latitude and Max Temp as x and y values\n",
    "x_values = south_city_data['Latitude'].astype('float')\n",
    "y_values = south_city_data['Maximum Temperature'].astype('float')\n",
    "\n",
    "# Run linear regression\n",
    "(slope, intercept, rvalue, pvalue, stderr) = linregress(x_values, y_values)\n",
    "\n",
    "# Create equation of line\n",
    "fit = slope * x_values + intercept\n",
    "line_eq = \"y = \" + str(round(slope,2)) + \"x + \" + str(round(intercept,2))\n",
    "\n",
    "# Plot scatter plot\n",
    "plt.scatter(x_values, y_values)\n",
    "\n",
    "# Plot regression line\n",
    "plt.plot(x_values, fit, \"r-\")\n",
    "plt.annotate(line_eq,(-50,70),fontsize=10,color=\"red\")\n",
    "\n",
    "# Label plot\n",
    "plt.xlabel('Latitude')\n",
    "plt.ylabel('Maximum Temperature')\n",
    "plt.title('Southern Hemisphere: Maximum Temperature vs. Latitude Linear Regression (04/10/20)')\n",
    "\n",
    "# Print r square value\n",
    "print(f\"R squared: {rvalue**2}\")\n",
    "\n",
    "# Save an image of chart\n",
    "plt.savefig(\"../output/south_maxtemp_regres.png\")\n",
    "\n",
    "# Show plot\n",
    "plt.show()"
   ]
  },
  {
   "cell_type": "markdown",
   "metadata": {},
   "source": [
    "The linear regression is modelling a weak positive correlation between maximum temperature and latitude for 553 randomly selected cities in the Southern Hemisphere."
   ]
  },
  {
   "cell_type": "markdown",
   "metadata": {},
   "source": [
    "####  Northern Hemisphere - Humidity (%) vs. Latitude Linear Regression"
   ]
  },
  {
   "cell_type": "code",
   "execution_count": 22,
   "metadata": {},
   "outputs": [
    {
     "name": "stdout",
     "output_type": "stream",
     "text": [
      "R squared: 0.04463459672044129\n"
     ]
    },
    {
     "data": {
      "image/png": "[encoded data removed]",
      "text/plain": [
       "<Figure size 432x288 with 1 Axes>"
      ]
     },
     "metadata": {
      "needs_background": "light"
     },
     "output_type": "display_data"
    }
   ],
   "source": [
    "# Convert to floats and store variables as x and y values\n",
    "x_values = north_city_data['Latitude'].astype('float')\n",
    "y_values = north_city_data['Humidity'].astype('float')\n",
    "\n",
    "# Run linear regression\n",
    "(slope, intercept, rvalue, pvalue, stderr) = linregress(x_values, y_values)\n",
    "\n",
    "# Create equation of line\n",
    "fit = slope * x_values + intercept\n",
    "line_eq = \"y = \" + str(round(slope,2)) + \"x + \" + str(round(intercept,2))\n",
    "\n",
    "# Plot scatter plot\n",
    "plt.scatter(x_values, y_values)\n",
    "\n",
    "# Plot regression line\n",
    "plt.plot(x_values, fit, \"r-\")\n",
    "plt.annotate(line_eq,(50,10),fontsize=10,color=\"red\")\n",
    "\n",
    "# Label plot\n",
    "plt.xlabel('Latitude')\n",
    "plt.ylabel('Humidity (%)')\n",
    "plt.title('Northern Hemisphere: Humidity vs. Latitude Linear Regression (04/10/20)')\n",
    "\n",
    "# Print r square value\n",
    "print(f\"R squared: {rvalue**2}\")\n",
    "\n",
    "# Save an image of chart\n",
    "plt.savefig(\"../output/north_humid_regres.png\")\n",
    "\n",
    "# Show plot\n",
    "plt.show()"
   ]
  },
  {
   "cell_type": "markdown",
   "metadata": {},
   "source": [
    "The linear regression for humidity and latitude in the Northern Hemisphere shows no correlation."
   ]
  },
  {
   "cell_type": "markdown",
   "metadata": {},
   "source": [
    "####  Southern Hemisphere - Humidity (%) vs. Latitude Linear Regression"
   ]
  },
  {
   "cell_type": "code",
   "execution_count": 23,
   "metadata": {},
   "outputs": [
    {
     "name": "stdout",
     "output_type": "stream",
     "text": [
      "R squared: 0.00823319984958985\n"
     ]
    },
    {
     "data": {
      "image/png": "[encoded data removed]",
      "text/plain": [
       "<Figure size 432x288 with 1 Axes>"
      ]
     },
     "metadata": {
      "needs_background": "light"
     },
     "output_type": "display_data"
    }
   ],
   "source": [
    "# Convert to floats and store variables as x and y values\n",
    "x_values = south_city_data['Latitude'].astype('float')\n",
    "y_values = south_city_data['Humidity'].astype('float')\n",
    "\n",
    "# Run linear regression\n",
    "(slope, intercept, rvalue, pvalue, stderr) = linregress(x_values, y_values)\n",
    "\n",
    "# Create equation of line\n",
    "fit = slope * x_values + intercept\n",
    "line_eq = \"y = \" + str(round(slope,2)) + \"x + \" + str(round(intercept,2))\n",
    "\n",
    "# Plot scatter plot\n",
    "plt.scatter(x_values, y_values)\n",
    "\n",
    "# Plot regression line\n",
    "plt.plot(x_values, fit, \"r-\")\n",
    "plt.annotate(line_eq,(-53,60),fontsize=10,color=\"red\")\n",
    "\n",
    "# Label plot\n",
    "plt.xlabel('Latitude')\n",
    "plt.ylabel('Humidity (%)')\n",
    "plt.title('Southern Hemisphere: Humidity vs. Latitude Linear Regression (04/10/20)')\n",
    "\n",
    "# Print r square value\n",
    "print(f\"R squared: {rvalue**2}\")\n",
    "\n",
    "# Save an image of chart\n",
    "plt.savefig(\"../output/south_humid_regres.png\")\n",
    "\n",
    "# Show plot\n",
    "plt.show()"
   ]
  },
  {
   "cell_type": "markdown",
   "metadata": {},
   "source": [
    "The linear regressions show no correlation between humidity and latitude for both the Northern and Southern Hemisphere."
   ]
  },
  {
   "cell_type": "markdown",
   "metadata": {},
   "source": [
    "####  Northern Hemisphere - Cloudiness (%) vs. Latitude Linear Regression"
   ]
  },
  {
   "cell_type": "code",
   "execution_count": 24,
   "metadata": {},
   "outputs": [
    {
     "name": "stdout",
     "output_type": "stream",
     "text": [
      "R squared: 0.002251970790045511\n"
     ]
    },
    {
     "data": {
      "image/png": "[encoded data removed]",
      "text/plain": [
       "<Figure size 432x288 with 1 Axes>"
      ]
     },
     "metadata": {
      "needs_background": "light"
     },
     "output_type": "display_data"
    }
   ],
   "source": [
    "# Convert to floats and store variables as x and y values\n",
    "x_values = north_city_data['Latitude'].astype('float')\n",
    "y_values = north_city_data['Cloudiness'].astype('float')\n",
    "\n",
    "# Run linear regression\n",
    "(slope, intercept, rvalue, pvalue, stderr) = linregress(x_values, y_values)\n",
    "\n",
    "# Create equation of line\n",
    "fit = slope * x_values + intercept\n",
    "line_eq = \"y = \" + str(round(slope,2)) + \"x + \" + str(round(intercept,2))\n",
    "\n",
    "# Plot scatter plot\n",
    "plt.scatter(x_values, y_values)\n",
    "\n",
    "# Plot regression line\n",
    "plt.plot(x_values, fit, \"r-\")\n",
    "plt.annotate(line_eq,(20,57),fontsize=10,color=\"red\")\n",
    "\n",
    "# Label plot\n",
    "plt.xlabel('Latitude')\n",
    "plt.ylabel('Cloudiness (%)')\n",
    "plt.title('Northern Hemisphere: Cloudiness vs. Latitude Linear Regression (04/10/20)')\n",
    "\n",
    "# Print r square value\n",
    "print(f\"R squared: {rvalue**2}\")\n",
    "\n",
    "# Save an image of chart\n",
    "plt.savefig(\"../output/north_cloud_regres.png\")\n",
    "\n",
    "# Show plot\n",
    "plt.show()"
   ]
  },
  {
   "cell_type": "markdown",
   "metadata": {},
   "source": [
    "####  Southern Hemisphere - Cloudiness (%) vs. Latitude Linear Regression"
   ]
  },
  {
   "cell_type": "code",
   "execution_count": 25,
   "metadata": {},
   "outputs": [
    {
     "name": "stdout",
     "output_type": "stream",
     "text": [
      "R squared: 0.008168582285931312\n"
     ]
    },
    {
     "data": {
      "image/png": "[encoded data removed]",
      "text/plain": [
       "<Figure size 432x288 with 1 Axes>"
      ]
     },
     "metadata": {
      "needs_background": "light"
     },
     "output_type": "display_data"
    }
   ],
   "source": [
    "# Convert to floats and store variables as x and y values\n",
    "x_values = south_city_data['Latitude'].astype('float')\n",
    "y_values = south_city_data['Cloudiness'].astype('float')\n",
    "\n",
    "# Run linear regression\n",
    "(slope, intercept, rvalue, pvalue, stderr) = linregress(x_values, y_values)\n",
    "\n",
    "# Create equation of line\n",
    "fit = slope * x_values + intercept\n",
    "line_eq = \"y = \" + str(round(slope,2)) + \"x + \" + str(round(intercept,2))\n",
    "\n",
    "# Plot scatter plot\n",
    "plt.scatter(x_values, y_values)\n",
    "\n",
    "# Plot regression line\n",
    "plt.plot(x_values, fit, \"r-\")\n",
    "plt.annotate(line_eq,(-50,27),fontsize=10,color=\"red\")\n",
    "\n",
    "# Label plot\n",
    "plt.xlabel('Latitude')\n",
    "plt.ylabel('Cloudiness (%)')\n",
    "plt.title('Southern Hemisphere: Cloudiness vs. Latitude Linear Regression (04/10/20)')\n",
    "\n",
    "# Print r square value\n",
    "print(f\"R squared: {rvalue**2}\")\n",
    "\n",
    "# Save an image of chart\n",
    "plt.savefig(\"../output/south_cloud_regres.png\")\n",
    "\n",
    "# Show plot\n",
    "plt.show()"
   ]
  },
  {
   "cell_type": "markdown",
   "metadata": {},
   "source": [
    "The linear regressions show no correlation between cloudiness and latitude for both the Northern and Southern Hemisphere."
   ]
  },
  {
   "cell_type": "markdown",
   "metadata": {},
   "source": [
    "####  Northern Hemisphere - Wind Speed (mph) vs. Latitude Linear Regression"
   ]
  },
  {
   "cell_type": "code",
   "execution_count": 26,
   "metadata": {},
   "outputs": [
    {
     "name": "stdout",
     "output_type": "stream",
     "text": [
      "R squared: 0.019930383415011584\n"
     ]
    },
    {
     "data": {
      "image/png": "[encoded data removed]",
      "text/plain": [
       "<Figure size 432x288 with 1 Axes>"
      ]
     },
     "metadata": {
      "needs_background": "light"
     },
     "output_type": "display_data"
    }
   ],
   "source": [
    "# Convert to floats and store variables as x and y values\n",
    "x_values = north_city_data['Latitude'].astype('float')\n",
    "y_values = north_city_data['Wind Speed'].astype('float')\n",
    "\n",
    "# Run linear regression\n",
    "(slope, intercept, rvalue, pvalue, stderr) = linregress(x_values, y_values)\n",
    "\n",
    "# Create equation of line\n",
    "fit = slope * x_values + intercept\n",
    "line_eq = \"y = \" + str(round(slope,2)) + \"x + \" + str(round(intercept,2))\n",
    "\n",
    "# Plot scatter plot\n",
    "plt.scatter(x_values, y_values)\n",
    "\n",
    "# Plot regression line\n",
    "plt.plot(x_values, fit, \"r-\")\n",
    "plt.annotate(line_eq,(5,25),fontsize=10,color=\"red\")\n",
    "\n",
    "# Label plot\n",
    "plt.xlabel('Latitude')\n",
    "plt.ylabel('Wind Speed (mph)')\n",
    "plt.title('Northern Hemisphere: Wind Speed vs. Latitude Linear Regression (04/10/20)')\n",
    "\n",
    "# Print r square value\n",
    "print(f\"R squared: {rvalue**2}\")\n",
    "\n",
    "# Save an image of chart\n",
    "plt.savefig(\"../output/north_wind_regres.png\")\n",
    "\n",
    "# Show plot\n",
    "plt.show()"
   ]
  },
  {
   "cell_type": "markdown",
   "metadata": {},
   "source": [
    "####  Southern Hemisphere - Wind Speed (mph) vs. Latitude Linear Regression"
   ]
  },
  {
   "cell_type": "code",
   "execution_count": 27,
   "metadata": {},
   "outputs": [
    {
     "name": "stdout",
     "output_type": "stream",
     "text": [
      "R squared: 0.054072299280728126\n"
     ]
    },
    {
     "data": {
      "image/png": "[encoded data removed]",
      "text/plain": [
       "<Figure size 432x288 with 1 Axes>"
      ]
     },
     "metadata": {
      "needs_background": "light"
     },
     "output_type": "display_data"
    }
   ],
   "source": [
    "# Convert to floats and store variables as x and y values\n",
    "x_values = south_city_data['Latitude'].astype('float')\n",
    "y_values = south_city_data['Wind Speed'].astype('float')\n",
    "\n",
    "# Run linear regression\n",
    "(slope, intercept, rvalue, pvalue, stderr) = linregress(x_values, y_values)\n",
    "\n",
    "# Create equation of line\n",
    "fit = slope * x_values + intercept\n",
    "line_eq = \"y = \" + str(round(slope,2)) + \"x + \" + str(round(intercept,2))\n",
    "\n",
    "# Plot scatter plot\n",
    "plt.scatter(x_values, y_values)\n",
    "\n",
    "# Plot regression line\n",
    "plt.plot(x_values, fit, \"r-\")\n",
    "plt.annotate(line_eq,(-50,23),fontsize=10,color=\"red\")\n",
    "\n",
    "# Label plot\n",
    "plt.xlabel('Latitude')\n",
    "plt.ylabel('Wind Speed (mph)')\n",
    "plt.title('Southern Hemisphere: Wind Speed vs. Latitude Linear Regression (04/10/20)')\n",
    "\n",
    "# Print r square value\n",
    "print(f\"R squared: {rvalue**2}\")\n",
    "\n",
    "# Save an image of chart\n",
    "plt.savefig(\"../output/south_wind_regres.png\")\n",
    "\n",
    "# Show plot\n",
    "plt.show()"
   ]
  },
  {
   "cell_type": "markdown",
   "metadata": {},
   "source": [
    "The linear regressions show no correlation between wind speed and latitude for both the Northern and Southern Hemisphere."
   ]
  },
  {
   "cell_type": "markdown",
   "metadata": {},
   "source": [
    "There is a correlation between maximum temperature and latitude for both the Northern Hemisphere (moderate negative correlation) and Southern Hemisphere (weak positive correlation). There linear regressions show no correlation between latitude and windspeed, latitude and cloudiness, and latitude and humidity for both the Northern and Southern Hemisphere."
   ]
  },
  {
   "cell_type": "code",
   "execution_count": null,
   "metadata": {},
   "outputs": [],
   "source": []
  }
 ],
 "metadata": {
  "anaconda-cloud": {},
  "kernel_info": {
   "name": "python3"
  },
  "kernelspec": {
   "display_name": "Python 3",
   "language": "python",
   "name": "python3"
  },
  "language_info": {
   "codemirror_mode": {
    "name": "ipython",
    "version": 3
   },
   "file_extension": ".py",
   "mimetype": "text/x-python",
   "name": "python",
   "nbconvert_exporter": "python",
   "pygments_lexer": "ipython3",
   "version": "3.7.6"
  },
  "latex_envs": {
   "LaTeX_envs_menu_present": true,
   "autoclose": false,
   "autocomplete": true,
   "bibliofile": "biblio.bib",
   "cite_by": "apalike",
   "current_citInitial": 1,
   "eqLabelWithNumbers": true,
   "eqNumInitial": 1,
   "hotkeys": {
    "equation": "Ctrl-E",
    "itemize": "Ctrl-I"
   },
   "labels_anchors": false,
   "latex_user_defs": false,
   "report_style_numbering": false,
   "user_envs_cfg": false
  },
  "nteract": {
   "version": "0.12.3"
  }
 },
 "nbformat": 4,
 "nbformat_minor": 2
}
